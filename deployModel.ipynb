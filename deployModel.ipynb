{
 "cells": [
  {
   "cell_type": "code",
   "execution_count": 4,
   "metadata": {},
   "outputs": [],
   "source": [
    "from sklearn import datasets\n",
    "from sklearn.neighbors import KNeighborsClassifier\n",
    "\n",
    "import matplotlib.pyplot as plt\n",
    "import numpy as np\n",
    "from sklearn.model_selection import train_test_split"
   ]
  },
  {
   "cell_type": "code",
   "execution_count": 5,
   "metadata": {},
   "outputs": [],
   "source": [
    "(X, y) = datasets.load_iris(return_X_y=True)\n",
    "X_train, X_test, y_train, y_test = train_test_split(X,y, test_size=0.3)"
   ]
  },
  {
   "cell_type": "code",
   "execution_count": 6,
   "metadata": {},
   "outputs": [
    {
     "data": {
      "text/plain": [
       "KNeighborsClassifier(n_neighbors=3)"
      ]
     },
     "execution_count": 6,
     "metadata": {},
     "output_type": "execute_result"
    }
   ],
   "source": [
    "neigh = KNeighborsClassifier(n_neighbors=3)\n",
    "neigh.fit(X_train, y_train)"
   ]
  },
  {
   "cell_type": "code",
   "execution_count": 7,
   "metadata": {},
   "outputs": [
    {
     "data": {
      "text/plain": [
       "['neigh.joblib']"
      ]
     },
     "execution_count": 7,
     "metadata": {},
     "output_type": "execute_result"
    }
   ],
   "source": [
    "from joblib import dump, load\n",
    "dump(neigh, 'neigh.joblib')"
   ]
  },
  {
   "cell_type": "code",
   "execution_count": 8,
   "metadata": {},
   "outputs": [],
   "source": [
    "import requests"
   ]
  },
  {
   "cell_type": "code",
   "execution_count": 12,
   "metadata": {},
   "outputs": [
    {
     "data": {
      "text/plain": [
       "[[4.9, 2.5, 4.5, 1.7],\n",
       " [5.8, 2.6, 4.0, 1.2],\n",
       " [5.4, 3.4, 1.7, 0.2],\n",
       " [5.8, 2.7, 3.9, 1.2],\n",
       " [5.1, 3.4, 1.5, 0.2],\n",
       " [6.0, 2.9, 4.5, 1.5],\n",
       " [5.8, 2.7, 5.1, 1.9],\n",
       " [6.5, 3.2, 5.1, 2.0],\n",
       " [5.1, 3.8, 1.5, 0.3],\n",
       " [4.6, 3.1, 1.5, 0.2],\n",
       " [5.0, 3.3, 1.4, 0.2],\n",
       " [6.1, 2.8, 4.0, 1.3],\n",
       " [6.1, 2.9, 4.7, 1.4],\n",
       " [5.5, 2.4, 3.8, 1.1],\n",
       " [5.4, 3.9, 1.3, 0.4],\n",
       " [7.6, 3.0, 6.6, 2.1],\n",
       " [5.6, 3.0, 4.1, 1.3],\n",
       " [7.2, 3.6, 6.1, 2.5],\n",
       " [5.7, 2.5, 5.0, 2.0],\n",
       " [6.1, 2.6, 5.6, 1.4],\n",
       " [5.8, 2.7, 4.1, 1.0],\n",
       " [4.9, 3.1, 1.5, 0.2],\n",
       " [5.4, 3.4, 1.5, 0.4],\n",
       " [6.4, 2.9, 4.3, 1.3],\n",
       " [4.6, 3.6, 1.0, 0.2],\n",
       " [5.7, 2.6, 3.5, 1.0],\n",
       " [6.7, 3.1, 4.7, 1.5],\n",
       " [4.9, 2.4, 3.3, 1.0],\n",
       " [6.4, 2.7, 5.3, 1.9],\n",
       " [6.9, 3.1, 5.4, 2.1],\n",
       " [5.7, 2.8, 4.5, 1.3],\n",
       " [4.8, 3.4, 1.6, 0.2],\n",
       " [5.2, 4.1, 1.5, 0.1],\n",
       " [7.7, 3.8, 6.7, 2.2],\n",
       " [5.2, 3.4, 1.4, 0.2],\n",
       " [6.6, 3.0, 4.4, 1.4],\n",
       " [6.4, 3.1, 5.5, 1.8],\n",
       " [6.3, 2.8, 5.1, 1.5],\n",
       " [6.2, 2.8, 4.8, 1.8],\n",
       " [5.1, 3.7, 1.5, 0.4],\n",
       " [6.8, 3.0, 5.5, 2.1],\n",
       " [5.1, 3.8, 1.6, 0.2],\n",
       " [5.1, 2.5, 3.0, 1.1],\n",
       " [5.5, 3.5, 1.3, 0.2],\n",
       " [5.1, 3.5, 1.4, 0.2]]"
      ]
     },
     "execution_count": 12,
     "metadata": {},
     "output_type": "execute_result"
    }
   ],
   "source": [
    "X_test.tolist()"
   ]
  },
  {
   "cell_type": "code",
   "execution_count": 14,
   "metadata": {},
   "outputs": [],
   "source": [
    "data = {\"data\": X_test.tolist()}"
   ]
  },
  {
   "cell_type": "code",
   "execution_count": 15,
   "metadata": {},
   "outputs": [
    {
     "data": {
      "text/plain": [
       "{'data': [[4.9, 2.5, 4.5, 1.7],\n",
       "  [5.8, 2.6, 4.0, 1.2],\n",
       "  [5.4, 3.4, 1.7, 0.2],\n",
       "  [5.8, 2.7, 3.9, 1.2],\n",
       "  [5.1, 3.4, 1.5, 0.2],\n",
       "  [6.0, 2.9, 4.5, 1.5],\n",
       "  [5.8, 2.7, 5.1, 1.9],\n",
       "  [6.5, 3.2, 5.1, 2.0],\n",
       "  [5.1, 3.8, 1.5, 0.3],\n",
       "  [4.6, 3.1, 1.5, 0.2],\n",
       "  [5.0, 3.3, 1.4, 0.2],\n",
       "  [6.1, 2.8, 4.0, 1.3],\n",
       "  [6.1, 2.9, 4.7, 1.4],\n",
       "  [5.5, 2.4, 3.8, 1.1],\n",
       "  [5.4, 3.9, 1.3, 0.4],\n",
       "  [7.6, 3.0, 6.6, 2.1],\n",
       "  [5.6, 3.0, 4.1, 1.3],\n",
       "  [7.2, 3.6, 6.1, 2.5],\n",
       "  [5.7, 2.5, 5.0, 2.0],\n",
       "  [6.1, 2.6, 5.6, 1.4],\n",
       "  [5.8, 2.7, 4.1, 1.0],\n",
       "  [4.9, 3.1, 1.5, 0.2],\n",
       "  [5.4, 3.4, 1.5, 0.4],\n",
       "  [6.4, 2.9, 4.3, 1.3],\n",
       "  [4.6, 3.6, 1.0, 0.2],\n",
       "  [5.7, 2.6, 3.5, 1.0],\n",
       "  [6.7, 3.1, 4.7, 1.5],\n",
       "  [4.9, 2.4, 3.3, 1.0],\n",
       "  [6.4, 2.7, 5.3, 1.9],\n",
       "  [6.9, 3.1, 5.4, 2.1],\n",
       "  [5.7, 2.8, 4.5, 1.3],\n",
       "  [4.8, 3.4, 1.6, 0.2],\n",
       "  [5.2, 4.1, 1.5, 0.1],\n",
       "  [7.7, 3.8, 6.7, 2.2],\n",
       "  [5.2, 3.4, 1.4, 0.2],\n",
       "  [6.6, 3.0, 4.4, 1.4],\n",
       "  [6.4, 3.1, 5.5, 1.8],\n",
       "  [6.3, 2.8, 5.1, 1.5],\n",
       "  [6.2, 2.8, 4.8, 1.8],\n",
       "  [5.1, 3.7, 1.5, 0.4],\n",
       "  [6.8, 3.0, 5.5, 2.1],\n",
       "  [5.1, 3.8, 1.6, 0.2],\n",
       "  [5.1, 2.5, 3.0, 1.1],\n",
       "  [5.5, 3.5, 1.3, 0.2],\n",
       "  [5.1, 3.5, 1.4, 0.2]]}"
      ]
     },
     "execution_count": 15,
     "metadata": {},
     "output_type": "execute_result"
    }
   ],
   "source": [
    "data"
   ]
  },
  {
   "cell_type": "code",
   "execution_count": 25,
   "metadata": {},
   "outputs": [],
   "source": [
    "r = requests.post('http://localhost:8009/predict', json = data)"
   ]
  },
  {
   "cell_type": "code",
   "execution_count": 26,
   "metadata": {},
   "outputs": [
    {
     "data": {
      "text/plain": [
       "{'prediction': [1,\n",
       "  1,\n",
       "  0,\n",
       "  1,\n",
       "  0,\n",
       "  1,\n",
       "  2,\n",
       "  2,\n",
       "  0,\n",
       "  0,\n",
       "  0,\n",
       "  1,\n",
       "  1,\n",
       "  1,\n",
       "  0,\n",
       "  2,\n",
       "  1,\n",
       "  2,\n",
       "  2,\n",
       "  2,\n",
       "  1,\n",
       "  0,\n",
       "  0,\n",
       "  1,\n",
       "  0,\n",
       "  1,\n",
       "  1,\n",
       "  1,\n",
       "  2,\n",
       "  2,\n",
       "  1,\n",
       "  0,\n",
       "  0,\n",
       "  2,\n",
       "  0,\n",
       "  1,\n",
       "  2,\n",
       "  1,\n",
       "  2,\n",
       "  0,\n",
       "  2,\n",
       "  0,\n",
       "  1,\n",
       "  0,\n",
       "  0],\n",
       " 'pred_proba': [[0.0, 1.0, 0.0],\n",
       "  [0.0, 1.0, 0.0],\n",
       "  [1.0, 0.0, 0.0],\n",
       "  [0.0, 1.0, 0.0],\n",
       "  [1.0, 0.0, 0.0],\n",
       "  [0.0, 1.0, 0.0],\n",
       "  [0.0, 0.0, 1.0],\n",
       "  [0.0, 0.3333333333333333, 0.6666666666666666],\n",
       "  [1.0, 0.0, 0.0],\n",
       "  [1.0, 0.0, 0.0],\n",
       "  [1.0, 0.0, 0.0],\n",
       "  [0.0, 1.0, 0.0],\n",
       "  [0.0, 1.0, 0.0],\n",
       "  [0.0, 1.0, 0.0],\n",
       "  [1.0, 0.0, 0.0],\n",
       "  [0.0, 0.0, 1.0],\n",
       "  [0.0, 1.0, 0.0],\n",
       "  [0.0, 0.0, 1.0],\n",
       "  [0.0, 0.0, 1.0],\n",
       "  [0.0, 0.3333333333333333, 0.6666666666666666],\n",
       "  [0.0, 1.0, 0.0],\n",
       "  [1.0, 0.0, 0.0],\n",
       "  [1.0, 0.0, 0.0],\n",
       "  [0.0, 1.0, 0.0],\n",
       "  [1.0, 0.0, 0.0],\n",
       "  [0.0, 1.0, 0.0],\n",
       "  [0.0, 1.0, 0.0],\n",
       "  [0.0, 1.0, 0.0],\n",
       "  [0.0, 0.0, 1.0],\n",
       "  [0.0, 0.0, 1.0],\n",
       "  [0.0, 1.0, 0.0],\n",
       "  [1.0, 0.0, 0.0],\n",
       "  [1.0, 0.0, 0.0],\n",
       "  [0.0, 0.0, 1.0],\n",
       "  [1.0, 0.0, 0.0],\n",
       "  [0.0, 1.0, 0.0],\n",
       "  [0.0, 0.0, 1.0],\n",
       "  [0.0, 0.6666666666666666, 0.3333333333333333],\n",
       "  [0.0, 0.0, 1.0],\n",
       "  [1.0, 0.0, 0.0],\n",
       "  [0.0, 0.0, 1.0],\n",
       "  [1.0, 0.0, 0.0],\n",
       "  [0.0, 1.0, 0.0],\n",
       "  [1.0, 0.0, 0.0],\n",
       "  [1.0, 0.0, 0.0]]}"
      ]
     },
     "execution_count": 26,
     "metadata": {},
     "output_type": "execute_result"
    }
   ],
   "source": [
    "r.json()"
   ]
  },
  {
   "cell_type": "code",
   "execution_count": null,
   "metadata": {},
   "outputs": [],
   "source": []
  }
 ],
 "metadata": {
  "kernelspec": {
   "display_name": "Python 3",
   "language": "python",
   "name": "python3"
  },
  "language_info": {
   "codemirror_mode": {
    "name": "ipython",
    "version": 3
   },
   "file_extension": ".py",
   "mimetype": "text/x-python",
   "name": "python",
   "nbconvert_exporter": "python",
   "pygments_lexer": "ipython3",
   "version": "3.7.1"
  }
 },
 "nbformat": 4,
 "nbformat_minor": 2
}
